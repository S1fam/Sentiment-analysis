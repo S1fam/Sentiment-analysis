{
 "cells": [
  {
   "cell_type": "markdown",
   "id": "f7059477-c430-47f0-9d0b-5f722e8b1682",
   "metadata": {},
   "source": [
    "# Load the book"
   ]
  },
  {
   "cell_type": "code",
   "execution_count": 2,
   "id": "d17d7140-48ca-43da-bbb1-8fab1722f1f6",
   "metadata": {},
   "outputs": [],
   "source": [
    "with open(\"miracle_in_the_andes.txt\", \"r\", encoding=\"utf8\") as file:\n",
    "    book = file.read()"
   ]
  },
  {
   "cell_type": "code",
   "execution_count": 4,
   "id": "61138ed3-b5da-4e8b-8080-869c7b4131e0",
   "metadata": {},
   "outputs": [
    {
     "data": {
      "text/plain": [
       "str"
      ]
     },
     "execution_count": 4,
     "metadata": {},
     "output_type": "execute_result"
    }
   ],
   "source": [
    "type(book)"
   ]
  },
  {
   "cell_type": "markdown",
   "id": "c9da708d-d9b7-4596-a6e8-7319022eb6ad",
   "metadata": {},
   "source": [
    "## paragraphs with word love"
   ]
  },
  {
   "cell_type": "code",
   "execution_count": 5,
   "id": "b3b09b86-0304-4fd7-aeae-7daaef533a40",
   "metadata": {},
   "outputs": [],
   "source": [
    "# prints out list of paragraphs with the word love"
   ]
  },
  {
   "cell_type": "code",
   "execution_count": 10,
   "id": "1636d8d1-a492-461a-97f3-82838cb4a542",
   "metadata": {},
   "outputs": [
    {
     "name": "stdout",
     "output_type": "stream",
     "text": [
      "41\n"
     ]
    }
   ],
   "source": [
    "import re\n",
    "paragraphs = re.split(r'\\n\\s*\\n', book)\n",
    "keyword = r'\\blove\\b'\n",
    "love_paragraphs = [paragraph for paragraph in paragraphs if re.search(keyword, paragraph)]\n",
    "print(len(love_paragraphs))"
   ]
  },
  {
   "cell_type": "markdown",
   "id": "a73d71d0-b229-40a0-9746-dedd46c2f177",
   "metadata": {},
   "source": [
    "## extract the chapter titles"
   ]
  },
  {
   "cell_type": "code",
   "execution_count": null,
   "id": "310b6a4c-90e6-44d7-969d-ec149da53c8f",
   "metadata": {},
   "outputs": [],
   "source": [
    "# prints out list of chapter titles"
   ]
  },
  {
   "cell_type": "code",
   "execution_count": 12,
   "id": "c81b7421-63f9-4ede-a6e1-3e7e4930ebdf",
   "metadata": {},
   "outputs": [
    {
     "name": "stdout",
     "output_type": "stream",
     "text": [
      "['Before', 'Everything Precious', 'A Promise', 'Breathe Once More', 'Abandoned', 'Tomb', 'East', 'The Opposite of Death', 'I See a Man', 'After']\n"
     ]
    }
   ],
   "source": [
    "pattern = r'Chapter \\d+\\n\\n(.*?)\\n\\n'\n",
    "chapter_titles = re.findall(pattern, book)\n",
    "print(chapter_titles)"
   ]
  },
  {
   "cell_type": "markdown",
   "id": "50e0642d-80d6-48c1-bf6f-32c4d4639c52",
   "metadata": {},
   "source": [
    "## function that finds the occurance of any word"
   ]
  },
  {
   "cell_type": "code",
   "execution_count": 68,
   "id": "56bbed29-d295-447b-8e52-df56ffde80bb",
   "metadata": {},
   "outputs": [],
   "source": [
    "def find(word):\n",
    "    pattern = re.compile(\"[a-zA-Z]+\")\n",
    "    findings = re.findall(pattern, book.lower())\n",
    "    d = {}\n",
    "    for x in findings:\n",
    "        if x in d.keys():\n",
    "            d[x] = d[x] + 1\n",
    "        else:\n",
    "            d[x] = 1\n",
    "    d_list = [(key, value) for (key, value) in d.items()]\n",
    "\n",
    "    for item in d_list:\n",
    "        if item[0] == word:\n",
    "            return item[1]\n",
    "    return f\"word {word} is not in the book\""
   ]
  },
  {
   "cell_type": "markdown",
   "id": "9f3e9807-64f1-422f-8786-c530e2ff72cc",
   "metadata": {},
   "source": [
    "## Call the function"
   ]
  },
  {
   "cell_type": "code",
   "execution_count": null,
   "id": "55320770-084f-49ba-aeb3-5d3d2854717f",
   "metadata": {},
   "outputs": [],
   "source": [
    "# find(\"love\") will give us number 83, find(\"hate\") --> \"The book does not contain the word {word}\""
   ]
  },
  {
   "cell_type": "code",
   "execution_count": 71,
   "id": "20b97e45-83bd-4a67-9885-f915b1b79608",
   "metadata": {},
   "outputs": [
    {
     "data": {
      "text/plain": [
       "85"
      ]
     },
     "execution_count": 71,
     "metadata": {},
     "output_type": "execute_result"
    }
   ],
   "source": [
    "find(\"love\")"
   ]
  },
  {
   "cell_type": "code",
   "execution_count": 73,
   "id": "9b93d591-6c86-4aba-9ff4-6c32ac56c7bf",
   "metadata": {},
   "outputs": [
    {
     "data": {
      "text/plain": [
       "'word hate is not in the book'"
      ]
     },
     "execution_count": 73,
     "metadata": {},
     "output_type": "execute_result"
    }
   ],
   "source": [
    "find(\"hate\")"
   ]
  }
 ],
 "metadata": {
  "kernelspec": {
   "display_name": "Python 3 (ipykernel)",
   "language": "python",
   "name": "python3"
  },
  "language_info": {
   "codemirror_mode": {
    "name": "ipython",
    "version": 3
   },
   "file_extension": ".py",
   "mimetype": "text/x-python",
   "name": "python",
   "nbconvert_exporter": "python",
   "pygments_lexer": "ipython3",
   "version": "3.10.10"
  }
 },
 "nbformat": 4,
 "nbformat_minor": 5
}
